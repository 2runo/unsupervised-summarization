{
  "nbformat": 4,
  "nbformat_minor": 0,
  "metadata": {
    "colab": {
      "name": "Untitled2.ipynb",
      "provenance": [],
      "collapsed_sections": []
    },
    "kernelspec": {
      "name": "python3",
      "display_name": "Python 3"
    },
    "language_info": {
      "name": "python"
    }
  },
  "cells": [
    {
      "cell_type": "markdown",
      "metadata": {
        "id": "zabrAvbHPb2M"
      },
      "source": [
        "## 데이터셋 전처리 및 저장\n",
        "- 뉴스 기사를 전처리합니다.\n",
        "- bbc-dataset/ 디렉토리에 텍스트 파일로 저장합니다."
      ]
    },
    {
      "cell_type": "code",
      "metadata": {
        "colab": {
          "base_uri": "https://localhost:8080/"
        },
        "id": "rEhoASwaPjWe",
        "outputId": "88df5797-8151-460b-8376-beff3811868d"
      },
      "source": [
        "from google.colab import drive\n",
        "drive.mount('/content/mnt')"
      ],
      "execution_count": 1,
      "outputs": [
        {
          "output_type": "stream",
          "text": [
            "Mounted at /content/mnt\n"
          ],
          "name": "stdout"
        }
      ]
    },
    {
      "cell_type": "code",
      "metadata": {
        "colab": {
          "base_uri": "https://localhost:8080/"
        },
        "id": "b9cwB_MnPXx1",
        "outputId": "e104683e-a324-4b8b-bdfc-aa565a3b983e"
      },
      "source": [
        "import os\n",
        "\n",
        "\n",
        "if not os.path.isdir('/content/mnt/My Drive/bbc-dataset'):\n",
        "    os.mkdir('/content/mnt/My Drive/bbc-dataset')\n",
        "\n",
        "\n",
        "total = 0\n",
        "tmp_n = 0\n",
        "file_name = 0\n",
        "samples = []\n",
        "\n",
        "out_path = '/content/mnt/My Drive/bbc-out.txt'\n",
        "if os.path.isfile(out_path):\n",
        "    with open(out_path, 'r', encoding='utf8') as f:\n",
        "        raw = f.read()\n",
        "    for doc in raw.split('[SEP]'):\n",
        "        doc = doc.split('— CNBC')[0].split('— CNN')[0].replace('’', \"'\")\n",
        "        while doc.endswith('\\n'):\n",
        "            doc = doc[:-1]\n",
        "        lines = doc.split('\\n')\n",
        "        if '@' in lines[-1] and '.com' in lines[-1]:\n",
        "            lines = lines[:-1]\n",
        "        doc = '\\n'.join(lines)\n",
        "        doc = doc.replace('\\n', ' ')\n",
        "        while '  ' in doc:\n",
        "            doc = doc.replace('  ', ' ')\n",
        "        while doc.startswith(' '):\n",
        "            doc = doc[1:]\n",
        "\n",
        "        length = doc.count(' ')\n",
        "        if 100 <= length <= 800:\n",
        "            h = doc[:64] + str(len(doc)) + doc[-64:]\n",
        "            if h in samples:\n",
        "                continue\n",
        "            samples.append(h)\n",
        "            tmp_n += 1\n",
        "            with open(f\"/content/mnt/My Drive/bbc-dataset/{file_name}.txt\", 'a+', encoding='utf8') as f:\n",
        "                if tmp_n == 1:\n",
        "                    f.write(doc)\n",
        "                else:\n",
        "                    f.write('\\n'+doc)\n",
        "            if tmp_n >= 1000:\n",
        "                file_name += 1\n",
        "                tmp_n = 0\n",
        "            total += 1\n",
        "            print(total, end='\\r')\n",
        "\n",
        "print('-----------------------------------')\n",
        "print('total', '\\t', total)\n"
      ],
      "execution_count": 2,
      "outputs": [
        {
          "output_type": "stream",
          "text": [
            "-----------------------------------\n",
            "total \t 228\n"
          ],
          "name": "stdout"
        }
      ]
    },
    {
      "cell_type": "code",
      "metadata": {
        "id": "OyeJ78_0Pppn"
      },
      "source": [
        ""
      ],
      "execution_count": null,
      "outputs": []
    }
  ]
}