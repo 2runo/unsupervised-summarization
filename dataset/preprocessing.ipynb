{
  "nbformat": 4,
  "nbformat_minor": 0,
  "metadata": {
    "colab": {
      "name": "Untitled2.ipynb",
      "provenance": [],
      "collapsed_sections": []
    },
    "kernelspec": {
      "name": "python3",
      "display_name": "Python 3"
    },
    "language_info": {
      "name": "python"
    }
  },
  "cells": [
    {
      "cell_type": "markdown",
      "metadata": {
        "id": "zabrAvbHPb2M"
      },
      "source": [
        "## 데이터셋 전처리 및 저장\n",
        "- 뉴스 기사를 전처리합니다.\n",
        "- bbc-dataset/ 디렉토리에 텍스트 파일로 저장합니다."
      ]
    },
    {
      "cell_type": "code",
      "metadata": {
        "colab": {
          "base_uri": "https://localhost:8080/"
        },
        "id": "rEhoASwaPjWe",
        "outputId": "88df5797-8151-460b-8376-beff3811868d"
      },
      "source": [
        "from google.colab import drive\n",
        "drive.mount('/content/mnt')"
      ],
      "execution_count": 1,
      "outputs": [
        {
          "output_type": "stream",
          "text": [
            "Mounted at /content/mnt\n"
          ],
          "name": "stdout"
        }
      ]
    },
    {
      "cell_type": "code",
      "metadata": {
        "colab": {
          "base_uri": "https://localhost:8080/"
        },
        "id": "b9cwB_MnPXx1",
        "outputId": "e104683e-a324-4b8b-bdfc-aa565a3b983e"
      },
      "source": [
        "import os\n",
        "\n",
        "\n",
        "if not os.path.isdir('/content/mnt/My Drive/bbc-dataset'):\n",
        "    os.mkdir('/content/mnt/My Drive/bbc-dataset')\n",
        "\n",
        "\n",
        "total = 0\n",
        "tmp_n = 0\n",
        "file_name = 0\n",
        "samples = []\n",
        "\n",
        "out_path = '/content/mnt/My Drive/bbc-out.txt'\n",
        "if os.path.isfile(out_path):\n",
        "    with open(out_path, 'r', encoding='utf8') as f:\n",
        "        raw = f.read()\n",
        "    for doc in raw.split('[SEP]'):\n",
        "        doc = doc.split('— CNBC')[0].split('— CNN')[0].replace('’', \"'\")\n",
        "        while doc.endswith('\\n'):\n",
        "            doc = doc[:-1]\n",
        "        lines = doc.split('\\n')\n",
        "        if '@' in lines[-1] and '.com' in lines[-1]:\n",
        "            lines = lines[:-1]\n",
        "        doc = '\\n'.join(lines)\n",
        "        doc = doc.replace('\\n', ' ')\n",
        "        while '  ' in doc:\n",
        "            doc = doc.replace('  ', ' ')\n",
        "        while doc.startswith(' '):\n",
        "            doc = doc[1:]\n",
        "\n",
        "        length = doc.count(' ')\n",
        "        if 100 <= length <= 800:\n",
        "            h = doc[:64] + str(len(doc)) + doc[-64:]\n",
        "            if h in samples:\n",
        "                continue\n",
        "            samples.append(h)\n",
        "            tmp_n += 1\n",
        "            with open(f\"/content/mnt/My Drive/bbc-dataset/{file_name}.txt\", 'a+', encoding='utf8') as f:\n",
        "                if tmp_n == 1:\n",
        "                    f.write(doc)\n",
        "                else:\n",
        "                    f.write('\\n'+doc)\n",
        "            if tmp_n >= 1000:\n",
        "                file_name += 1\n",
        "                tmp_n = 0\n",
        "            total += 1\n",
        "            print(total, end='\\r')\n",
        "\n",
        "print('-----------------------------------')\n",
        "print('total', '\\t', total)\n"
      ],
      "execution_count": 2,
      "outputs": [
        {
          "output_type": "stream",
          "text": [
            "-----------------------------------\n",
            "total \t 228\n"
          ],
          "name": "stdout"
        }
      ]
    },
    {
      "cell_type": "code",
      "metadata": {
        "colab": {
          "base_uri": "https://localhost:8080/"
        },
        "id": "OyeJ78_0Pppn",
        "outputId": "93641703-8ed7-4e97-cae7-2281afcc561c"
      },
      "source": [
        "!head '/content/mnt/My Drive/bbc-dataset/0.txt' -n 3"
      ],
      "execution_count": 4,
      "outputs": [
        {
          "output_type": "stream",
          "text": [
            "Team GB's swimming heroics at Tokyo 2020 might have inspired you to get off the sofa, grab your goggles and do a few lengths of your local pool. But what separates an Olympic champion from us mere mortals? According to the performance psychologist for gold medallist Adam Peaty, the answer is mental strength. Bill Beswick's worked with the 26-year-old breaststroke machine since he was 17 and says Adam's winning mindset is the best he's seen. Bill tells Radio 1 Newsbeat there are two major factors to becoming a champion: being physically capable and having the attitude \"to compete, train and win everyday\". \"You can get away with less talent and a great attitude but you can't get away with a bad attitude.\" Adam, from Uttoxeter, Staffordshire, is one of the fastest swimmers in history, and won his first Olympic title at Rio 2016. No-one has even come close to his world record time of 56.88 seconds. Adam follows a mental ritual to get in the zone ahead of his 6am and 6pm training sessions each day, Bill says. He makes a point of pausing before he enters the pool and focusing on \"training like a champion\", the psychologist adds. \"He sets his standard at that moment. That is how an athlete builds mental strength,\" Bill adds. Adam won Team GB's first gold medal of Tokyo 2020 in the 100m breaststroke on Monday to become the first British swimmer to defend an Olympic title. Even more medals could be on the way for Adam - he'll be in the 4x100m mixed medley final on Saturday after the quartet broke the European record to win their heat on Thursday. And he's in the men's 4x100m medley heats on Friday too. His performance in Tokyo so far is a particularly huge achievement considering the disruption Covid had on training - at times during lockdown Adam wasn't even able to train in a pool. \"It would have been much harder if Adam hadn't have been trained that when setbacks happen, we deal with them,\" Bill says. \"Not only has he dealt with the delay of the Olympics and changes to his training schedule, he's also dealt with the Olympics taking place in a very unique and strange environment.\" He's referring to what's going on for all athletes in Tokyo - no crowds, no face-to-face support from his family, regular Covid testing and periods of isolation. Bill refuses to take full credit for the star's winning mentality and says Adam's swimming coach, Mel Marshall, is \"perfect for him\". A former Olympic swimmer herself, Mel has been coaching Adam since he was 14. They met at the City of Derby Swimming Club, where he began training after being recommended by a family friend. \"He's come into swimming at the perfect time,\" Bill says, adding that British Swimming's Chris Spice has created \"a superb team environment\". Chris joined British Swimming back in 2013 as the national performance director to help improve the success of British swimming at major tournaments. \"London 2012 was a disappointing Olympics for swimming - he brought me into the remit to change the environment from a victim mentality to a fighter mentality,\" Bill says. \"The organisation wasn't in great shape, but we've created a perfect coaching environment and one of the great consequences is that we've produced Adam Peaty.\" Follow Newsbeat on Instagram, Facebook, Twitter and YouTube. Listen to Newsbeat live at 12:45 and 17:45 weekdays - or listen back here.\n",
            "Big tech firms are altering their return-to-work plans for employees, as Covid-19 cases rise in the US - with some stipulating that staff working in the office must be vaccinated. Google announced that it would delay a return to the office until 18 October. The company joined Facebook in saying it would require US workers returning to the office to be vaccinated. Twitter said it would pause office re-opening, closing offices in San Francisco and New York once again. The two Twitter offices had been operating at up to 50% capacity for staff who wanted to return. In a statement, the company wrote that it was \"continuing to closely monitor local conditions and make necessary changes that prioritise the health and safety of our Tweeps\". Twitter said it remained committed to giving employees the option to work from home where possible. Other tech firms have also put back, or changed, return-to-work plans Apple has reportedly delayed a planned return to on-site working until October. Amazon has previously announced a three-day-a-week return to work for \"corporate\" staff, in a seeming shift of policy. It comes as the US administration struggles with flagging rates of vaccination. President Biden recently ordered two million federal employees to show proof of vaccination or be subject to mandatory testing and mask-wearing. Some tech firms are now taking a similar stance. In an email to all employees on Wednesday, Google chief executive Sundar Pichai said the firm would extend a global, voluntary, work-from-home policy through to 18 October. In addition, the email said \"anyone coming to work on our campuses will need to be vaccinated\". The policy will be rolled out in the US, and later expand to other regions. The Google boss said its implementation of the policy would vary according to local conditions and regulations, and would only apply once vaccines are widely available in an area. More details would be forthcoming about exemptions for medical and other \"protected\" reasons, he added. Facebook has also announced that it would \"require\" US staff returning to offices to be vaccinated. In a statement, Facebook vice president Lori Goler wrote: \"We will have a process for those who cannot be vaccinated for medical or other reasons, and will be evaluating our approach in other regions as the situation evolves. Ms Goler said the company's return-to-office plans would \"prioritise everyone's health and safety\". \n",
            "A telecommunications satellite has gone into orbit that UK industry hopes will help maintain its global leadership in the sector. A quarter of the world's big telecoms spacecraft are manufactured in Britain, and the new Quantum platform is billed as a next-generation product. It's fully software-defined, meaning it can be reconfigured in space to meet changing market conditions. Quantum was launched on an Ariane-5 rocket from French Guiana. It will be manoeuvred to a position 36,000km above the equator, just east of Somalia, from where it will serve principally North African and Middle Eastern customers. Although the manufacturing of Quantum has been led from the UK, it is the French, Paris-based operator Eutelsat that owns the spacecraft. Telecommunications satellites are the giants of the sky. These multi-tonne beasts sit high above the equator, bouncing TV, phone calls, broadband and other data services around the planet. Traditionally, they've been configured in the factory before launch to do very specific tasks in particular markets. This might mean, for example, transmitting only on certain radio frequencies with shaped antennas to carve out the necessary ground \"footprint\". But telecoms markets don't stand still, and being able to totally reconfigure an in-orbit platform would allow an operator to adapt to any shifts in the business landscape - without the need to build and launch another bespoke platform. The operator would simply reprogram the existing satellite. Those antennas could electronically \"change their shape\", to tailor the bandwidth, power and frequency needs of the new territory to be served. And this can include very changeable circumstances, such as the evolving communications requirements of aeroplanes during the day as they travel in groups across an oceanic corridor. Electronic antennas are also more resistant to jamming, making it harder for authoritarian regimes to block the signals, including TV broadcasts, they don't like. Quantum has the technology to do all this. It's been produced through the European Space Agency's (Esa) Artes programme, an R&D initiative aimed at keeping the European satellite telecommunications industry globally competitive. The major partners on Quantum, in addition to Esa and the operator Eutelsat, are the UK Space Agency (UKSA) and the British-based manufacturers Airbus UK and Surrey Satellite Technology Ltd (SSTL). Airbus UK built the telecoms side of Quantum; SSTL produced its bus, or chassis. The special antennas were made at Airbus in Spain. Airbus has already taken the lessons learned into its \"brochure\" of new products. The OneSat model it now sells to operators features much of the same technology as Quantum. \"Once you have the technology that allows you to have a fully flexible mission, it changes the way you manufacture satellites,\" said Dave Phillips from Airbus. \"If you're not having to fully customise a bespoke satellite at the outset, you can move to a more mass-production model for satellite manufacturing, and that brings advantages in terms of lead time and cost,\" he told BBC News. Eutelsat intends to make good use of the adaptability of the 3.5-tonne Quantum spacecraft when it enters service after a period of testing. Communications on the move will be a primary use-case, providing connections, not just to planes but to ships at sea and vehicles on land. Another application will be in the response to natural disasters. For example, this type of satellite, had it been operational earlier this month, could have reacted quickly to provide emergency communications to recovery teams during the catastrophic floods in Germany. Eutelsat is positioning Quantum in an orbital slot at 48 degrees East, but the company knows the spacecraft could be moved anywhere around the globe and still fulfil its mission. \"This ability to adapt to changes, or to establish new markets, will result in a significantly more efficient use of the satellite's resources,\" said FrÃ©dÃ©ric Piro, Eutelsat's Quantum programme manager. Elodie Viau is the UK-based director of Esa's telecoms directorate. She said the products that came out of her R&D department were a good example of how spending in space benefited the wider economy. \"The Euroconsult financial, social and economic health study of 2019 predicted this Eutelsat quantum project would have â¬20 of general return for each euro invested,\" she noted. Friday's Ariane-5 rocket also lofted the Star One D2 satellite. This 6.1-tonne spacecraft is owned by Brazilian operator Embratel and will provide internet connections to Central and South America.\n"
          ],
          "name": "stdout"
        }
      ]
    },
    {
      "cell_type": "code",
      "metadata": {
        "id": "hPsJKgnQQLXG"
      },
      "source": [
        ""
      ],
      "execution_count": null,
      "outputs": []
    }
  ]
}